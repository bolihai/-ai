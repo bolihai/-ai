{
 "cells": [
  {
   "cell_type": "code",
   "execution_count": 6,
   "id": "f6ab5164",
   "metadata": {},
   "outputs": [],
   "source": [
    "import torch\n",
    "from torch import nn\n",
    "import torch.nn.functional as F\n",
    "import math"
   ]
  },
  {
   "cell_type": "code",
   "execution_count": null,
   "id": "8e367124",
   "metadata": {},
   "outputs": [
    {
     "name": "stdout",
     "output_type": "stream",
     "text": [
      "输出形状: torch.Size([32, 10, 512])\n"
     ]
    }
   ],
   "source": [
    "class MultiHeadAttention(nn.Module):\n",
    "  def __init__(self, d_model, n_head):\n",
    "    super(MultiHeadAttention, self).__init__()\n",
    "    \n",
    "    self.n_head = n_head\n",
    "    self.d_model = d_model\n",
    "    self.d_k = d_model // n_head\n",
    "    \n",
    "    self.w_q = nn.Linear(d_model, d_model)\n",
    "    self.w_k = nn.Linear(d_model, d_model)\n",
    "    self.w_v = nn.Linear(d_model, d_model)\n",
    "    self.w_combine = nn.Linear(d_model, d_model)  \n",
    "    self.softmax = nn.Softmax(dim=-1)\n",
    "\n",
    "  def forward(self, q, k, v, mask=None):\n",
    "    batch_size, seq_len, _ = q.shape\n",
    "    \n",
    "    # 线性变换\n",
    "    q = self.w_q(q)\n",
    "    k = self.w_k(k)\n",
    "    v = self.w_v(v)\n",
    "    \n",
    "    # 分割多头\n",
    "    q = q.view(batch_size, seq_len, self.n_head, self.d_k).permute(0, 2, 1, 3)\n",
    "    k = k.view(batch_size, seq_len, self.n_head, self.d_k).permute(0, 2, 1, 3)\n",
    "    v = v.view(batch_size, seq_len, self.n_head, self.d_k).permute(0, 2, 1, 3)\n",
    "    \n",
    "    # 计算注意力得分\n",
    "    scores = q @ k.transpose(-2, -1) / math.sqrt(self.d_k)  \n",
    "\n",
    "    # 应用掩码（如果有）\n",
    "    if mask is not None:\n",
    "        scores = scores.masked_fill(mask.unsqueeze(1) == 0, -1e9)\n",
    "    \n",
    "    # 计算注意力权重并加权求和\n",
    "    attention = self.softmax(scores)  \n",
    "    context = attention @ v  \n",
    "    \n",
    "    # 合并多头结果\n",
    "    context = context.permute(0, 2, 1, 3).contiguous().view(batch_size, seq_len, self.d_model)\n",
    "    \n",
    "    # 最终线性变换\n",
    "    output = self.w_combine(context)\n",
    "    return output\n",
    "\n",
    "d_model = 512\n",
    "n_head = 8\n",
    "attention = MultiHeadAttention(d_model, n_head)\n",
    "\n",
    "x = torch.randn(32, 10, d_model)  \n",
    "out = attention(x, x, x)"
   ]
  }
 ],
 "metadata": {
  "kernelspec": {
   "display_name": "Python 3",
   "language": "python",
   "name": "python3"
  },
  "language_info": {
   "codemirror_mode": {
    "name": "ipython",
    "version": 3
   },
   "file_extension": ".py",
   "mimetype": "text/x-python",
   "name": "python",
   "nbconvert_exporter": "python",
   "pygments_lexer": "ipython3",
   "version": "3.11.9"
  }
 },
 "nbformat": 4,
 "nbformat_minor": 5
}
