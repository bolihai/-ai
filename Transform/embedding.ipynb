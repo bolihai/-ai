{
 "cells": [
  {
   "cell_type": "code",
   "execution_count": 1,
   "id": "59f50b6d",
   "metadata": {},
   "outputs": [],
   "source": [
    "import torch\n",
    "from torch import nn\n",
    "import torch.nn.functional as F\n",
    "import math"
   ]
  },
  {
   "cell_type": "markdown",
   "id": "5315ead9",
   "metadata": {},
   "source": [
    "#### vacab_size             代表总的token包含了多少词汇\n",
    "#### d_model                代表每一个词的代表的向量维度\n",
    "#### padding_idx            代表填充索引，当一个文本大小不够统一长度的时候，使用其填充\n",
    "#### batch_size             代表一次前向/反向传播中处理样本的数量大小\n",
    "#### seq_len                代表单个样本输入序列的token数量\n",
    "#### max_len                代表模型能处理的最大序列长度（超过则截断）\n",
    "#### drop_prob              Dropout概率，通过其随机丢弃部分神经元，增强模型泛化能力，防止过拟合"
   ]
  },
  {
   "cell_type": "code",
   "execution_count": null,
   "id": "abbd6159",
   "metadata": {},
   "outputs": [
    {
     "name": "stdout",
     "output_type": "stream",
     "text": [
      "tensor([[0.4937, 0.2404, 0.8655, 0.1003],\n",
      "        [0.1508, 0.9797, 0.8670, 0.4523],\n",
      "        [0.7564, 0.9976, 0.6711, 0.5697],\n",
      "        [0.6099, 0.3834, 0.0081, 0.9055]])\n"
     ]
    }
   ],
   "source": [
    "from torch import Tensor\n",
    "\n",
    "# 将输入的词汇表索引转换为指定维度的Embedding\n",
    "class TokenEmbedding(nn.Embedding):\n",
    "  def __init__(self, vocab_size, d_model):\n",
    "    super(TokenEmbedding, self).__init__(vocab_size, d_model, padding_idx=1)"
   ]
  },
  {
   "cell_type": "code",
   "execution_count": 5,
   "id": "3a9f8cf3",
   "metadata": {},
   "outputs": [],
   "source": [
    "# 实现位置编码机制，解决自主意力机制的局限性\n",
    "class PositionalEmbedding(nn.Module):\n",
    "  def __init__(self, d_model, max_len, device):\n",
    "    super(PositionalEmbedding, self).__init__()\n",
    "    self.encoding=torch.zeros(max_len, d_model, device=device)\n",
    "    \n",
    "    # 位置编码不需要训练\n",
    "    self.encoding.requires_grad = False\n",
    "    pos = torch.arange(0, max_len, device=device)\n",
    "    pos = pos.float().unsqueeze(dim=1)\n",
    "    _2i = torch.arange(0, d_model, step=2, device=device).float()\n",
    "    self.encoding[:, 0:: 2] = torch.sin(pos/(10000**(_/d_model)))\n",
    "    self.encoding[:, 0:: 2] = torch.cos(pos/(10000**(_/d_model)))\n",
    "  \n",
    "  def forward(self, x):\n",
    "    batch_size, seq_len = x.size()\n",
    "    return self.encoding[: seq_len,: ]"
   ]
  },
  {
   "cell_type": "code",
   "execution_count": null,
   "id": "195263c2",
   "metadata": {},
   "outputs": [],
   "source": [
    "# 将token 嵌入和位置编码结合，并对应用dropout正则化\n",
    "class TransformerEmbedding(nn.Module):\n",
    "  def __init__(self, vocab_size, d_model, max_len, drop_prob, device):\n",
    "    super(TransformerEmbedding, self).__init__()\n",
    "    self.tok_emb = TokenEmbedding(vocab_size, d_model)\n",
    "    self.pos_emb = PositionalEmbedding(d_model, max_len, device)\n",
    "    self.drop_out = nn.Dropout(p=drop_prob)\n",
    "\n",
    "  def forward(self, x):\n",
    "    tok_emb = self.tok_emb(x)\n",
    "    pos_emb = self.pos_emb(x)\n",
    "    return self.drop_out(tok_emb+pos_emb)"
   ]
  }
 ],
 "metadata": {
  "kernelspec": {
   "display_name": "Python 3",
   "language": "python",
   "name": "python3"
  },
  "language_info": {
   "codemirror_mode": {
    "name": "ipython",
    "version": 3
   },
   "file_extension": ".py",
   "mimetype": "text/x-python",
   "name": "python",
   "nbconvert_exporter": "python",
   "pygments_lexer": "ipython3",
   "version": "3.11.9"
  }
 },
 "nbformat": 4,
 "nbformat_minor": 5
}
