{
 "cells": [
  {
   "cell_type": "code",
   "execution_count": 1,
   "id": "e24f61a7",
   "metadata": {},
   "outputs": [],
   "source": [
    "import torch\n",
    "import torch.nn as nn"
   ]
  },
  {
   "cell_type": "code",
   "execution_count": null,
   "id": "98282548",
   "metadata": {},
   "outputs": [],
   "source": [
    "class LayerNorm(nn.Module):\n",
    "  def __init__(self, d_model, eps=1e-12):\n",
    "    super(LayerNorm, self).__init__()\n",
    "    self.gamma = nn.Parameter(torch.ones(d_model))  \n",
    "    self.beta = nn.Parameter(torch.zeros(d_model))   \n",
    "    self.eps = eps \n",
    "  def forward(self, x):\n",
    "    mean = x.mean(-1, keepdim=True)\n",
    "    var = x.var(-1, unbiased=False, keepdim=True)\n",
    "    out = (x - mean) / torch.sqrt(var+self.eps)\n",
    "    out = self.gamma*out + self.beta\n",
    "    return out "
   ]
  }
 ],
 "metadata": {
  "kernelspec": {
   "display_name": "Python 3",
   "language": "python",
   "name": "python3"
  },
  "language_info": {
   "codemirror_mode": {
    "name": "ipython",
    "version": 3
   },
   "file_extension": ".py",
   "mimetype": "text/x-python",
   "name": "python",
   "nbconvert_exporter": "python",
   "pygments_lexer": "ipython3",
   "version": "3.11.9"
  }
 },
 "nbformat": 4,
 "nbformat_minor": 5
}
